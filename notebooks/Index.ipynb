{
 "cells": [
  {
   "cell_type": "markdown",
   "id": "53788279",
   "metadata": {},
   "source": [
    "# Scikit-Learn Tutorial\n",
    "\n",
    "*Jake VanderPlas*\n",
    "\n",
    "This is the main index for the materials of my Scikit-Learn tutorial.\n",
    "Please refer to the [github repository](http://github.com/jakevdp/sklearn_tutorial) for this tutorial for any updates."
   ]
  },
  {
   "cell_type": "markdown",
   "id": "322148f6",
   "metadata": {},
   "source": [
    "## Tutorial Notebooks\n",
    "\n",
    "The following links are to notebooks containing the tutorial materials.\n",
    "Note that many of these require files that are in the directory structure of the [github repository](http://github.com/jakevdp/sklearn_tutorial) in which they are contained.\n",
    "There is not time during the tutorial to cover all of this material, but I left it in in case attendees would like to go deeper on their own.\n",
    "\n",
    "### 1. Preliminaries\n",
    "\n",
    "  + [01-Preliminaries.ipynb](01-Preliminaries.ipynb)\n",
    "  \n",
    "### 2. Introduction to Machine Learning with Scikit-Learn\n",
    "\n",
    "  + [02.1-Machine-Learning-Intro.ipynb](02.1-Machine-Learning-Intro.ipynb)\n",
    "  + [02.2-Basic-Principles.ipynb](02.2-Basic-Principles.ipynb)\n",
    "  \n",
    "### 3. Supervised Learning In-Depth\n",
    "\n",
    "  + [03.1-Classification-SVMs.ipynb](03.1-Classification-SVMs.ipynb)\n",
    "  + [03.2-Regression-Forests.ipynb](03.2-Regression-Forests.ipynb)\n",
    "\n",
    "### 4. Unsupervised Learning In-Depth\n",
    "\n",
    "  + [04.1-Dimensionality-PCA.ipynb](04.1-Dimensionality-PCA.ipynb)\n",
    "  + [04.2-Clustering-KMeans.ipynb](04.2-Clustering-KMeans.ipynb)\n",
    "  + [04.3-Density-GMM.ipynb](04.3-Density-GMM.ipynb)\n",
    "  \n",
    "### 5. Model Validation In-Depth\n",
    "\n",
    "  + [05-Validation.ipynb](05-Validation.ipynb)"
   ]
  }
 ],
 "metadata": {
  "kernelspec": {
   "display_name": "Python 3 (ipykernel)",
   "language": "python",
   "name": "python3"
  },
  "language_info": {
   "codemirror_mode": {
    "name": "ipython",
    "version": 3
   },
   "file_extension": ".py",
   "mimetype": "text/x-python",
   "name": "python",
   "nbconvert_exporter": "python",
   "pygments_lexer": "ipython3",
   "version": "3.10.8"
  }
 },
 "nbformat": 4,
 "nbformat_minor": 5
}
