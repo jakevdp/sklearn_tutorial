{
 "cells": [
  {
   "cell_type": "markdown",
   "id": "9beb9520",
   "metadata": {},
   "source": [
    "# Scikit-Learn Tutorial\n",
    "\n",
    "---\n",
    "\n",
    "<br><br><br>\n",
    "\n",
    "# Download all materials here:\n",
    "# http://github.com/jakevdp/sklearn_tutorial\n",
    "\n",
    "<br><br><br><br><br><br>\n",
    "\n",
    "---"
   ]
  }
 ],
 "metadata": {
  "kernelspec": {
   "display_name": "Python 3 (ipykernel)",
   "language": "python",
   "name": "python3"
  },
  "language_info": {
   "codemirror_mode": {
    "name": "ipython",
    "version": 3
   },
   "file_extension": ".py",
   "mimetype": "text/x-python",
   "name": "python",
   "nbconvert_exporter": "python",
   "pygments_lexer": "ipython3",
   "version": "3.10.8"
  }
 },
 "nbformat": 4,
 "nbformat_minor": 5
}
